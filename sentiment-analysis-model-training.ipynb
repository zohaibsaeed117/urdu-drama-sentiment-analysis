{
 "cells": [
  {
   "cell_type": "code",
   "execution_count": 5,
   "metadata": {
    "_cell_guid": "b1076dfc-b9ad-4769-8c92-a6c4dae69d19",
    "_uuid": "8f2839f25d086af736a60e9eeb907d3b93b6e0e5",
    "execution": {
     "iopub.execute_input": "2025-05-08T16:24:46.803826Z",
     "iopub.status.busy": "2025-05-08T16:24:46.803493Z",
     "iopub.status.idle": "2025-05-08T16:24:46.810928Z",
     "shell.execute_reply": "2025-05-08T16:24:46.810158Z",
     "shell.execute_reply.started": "2025-05-08T16:24:46.803803Z"
    },
    "trusted": true
   },
   "outputs": [
    {
     "name": "stdout",
     "output_type": "stream",
     "text": [
      "/kaggle/input/urdu-sentence-labeled/Balanced_Sentiments_dataset_bert_model.xlsx\n"
     ]
    }
   ],
   "source": [
    "# This Python 3 environment comes with many helpful analytics libraries installed\n",
    "# It is defined by the kaggle/python Docker image: https://github.com/kaggle/docker-python\n",
    "# For example, here's several helpful packages to load\n",
    "\n",
    "import numpy as np # linear algebra\n",
    "import pandas as pd # data processing, CSV file I/O (e.g. pd.read_csv)\n",
    "\n",
    "# Input data files are available in the read-only \"../input/\" directory\n",
    "# For example, running this (by clicking run or pressing Shift+Enter) will list all files under the input directory\n",
    "\n",
    "import os\n",
    "for dirname, _, filenames in os.walk('/kaggle/input'):\n",
    "    for filename in filenames:\n",
    "        print(os.path.join(dirname, filename))\n",
    "\n",
    "# You can write up to 20GB to the current directory (/kaggle/working/) that gets preserved as output when you create a version using \"Save & Run All\" \n",
    "# You can also write temporary files to /kaggle/temp/, but they won't be saved outside of the current session"
   ]
  },
  {
   "cell_type": "code",
   "execution_count": null,
   "metadata": {
    "execution": {
     "iopub.execute_input": "2025-05-08T16:37:56.689296Z",
     "iopub.status.busy": "2025-05-08T16:37:56.688974Z",
     "iopub.status.idle": "2025-05-08T16:37:56.722676Z",
     "shell.execute_reply": "2025-05-08T16:37:56.721732Z",
     "shell.execute_reply.started": "2025-05-08T16:37:56.689272Z"
    },
    "trusted": true
   },
   "outputs": [
    {
     "data": {
      "application/vnd.jupyter.widget-view+json": {
       "model_id": "cba41467013044f4855fbbf1fb92f554",
       "version_major": 2,
       "version_minor": 0
      },
      "text/plain": [
       "HBox(children=(Button(button_style='success', description='Train Urdu_Sentence Model', layout=Layout(width='30…"
      ]
     },
     "metadata": {},
     "output_type": "display_data"
    },
    {
     "data": {
      "application/vnd.jupyter.widget-view+json": {
       "model_id": "9a76c89dff384eb68880da18c387c58c",
       "version_major": 2,
       "version_minor": 0
      },
      "text/plain": [
       "Output()"
      ]
     },
     "metadata": {},
     "output_type": "display_data"
    }
   ],
   "source": [
    "import pandas as pd\n",
    "import re\n",
    "import nltk\n",
    "import pickle\n",
    "import seaborn as sns\n",
    "import matplotlib.pyplot as plt\n",
    "from nltk.corpus import stopwords\n",
    "from nltk.tokenize import word_tokenize\n",
    "from sklearn.model_selection import train_test_split\n",
    "from sklearn.feature_extraction.text import TfidfVectorizer\n",
    "from sklearn.naive_bayes import MultinomialNB\n",
    "from sklearn.metrics import classification_report, confusion_matrix\n",
    "import ipywidgets as widgets\n",
    "from IPython.display import display, clear_output\n",
    "from sklearn.linear_model import LogisticRegression\n",
    "\n",
    "# Ensure nltk resources are available\n",
    "# nltk.download('punkt')\n",
    "# nltk.download('stopwords')\n",
    "\n",
    "# Create output widget to manage dynamic output\n",
    "output = widgets.Output()\n",
    "\n",
    "# Create text input widget globally (but not displayed yet)\n",
    "text_input = widgets.Text(description=\"Enter Urdu text:\", placeholder='Type a sentence in Urdu and press Enter')\n",
    "\n",
    "# ✅ Urdu Preprocessing Function\n",
    "def urdu_preprocessor(text):\n",
    "    text = re.sub(r'[۔،؛؟!٭ء]', ' ', str(text))  # Remove Urdu punctuation\n",
    "    text = re.sub(r'\\s+', ' ', text).strip()\n",
    "    try:\n",
    "        tokens = word_tokenize(text)\n",
    "        urdu_stopwords = set(stopwords.words('urdu')) if 'urdu' in stopwords.fileids() else set()\n",
    "        tokens = [token for token in tokens if token not in urdu_stopwords]\n",
    "        return ' '.join(tokens)\n",
    "    except Exception:\n",
    "        return text\n",
    "\n",
    "# 📚 Train function\n",
    "def train_model(b):\n",
    "    with output:\n",
    "        clear_output(wait=True)\n",
    "        print(\"🔄 Training started...\")\n",
    "\n",
    "        # 📁 Load dataset\n",
    "        try:\n",
    "            df = pd.read_excel(\"/kaggle/input/urdu-sentence-labeled/Dataset.xlsx\", sheet_name='Sheet1')\n",
    "            df.columns = df.columns.str.strip()\n",
    "            df = df.dropna(subset=['Urdu Sentence', 'Sentiment'])\n",
    "        except Exception as e:\n",
    "            print(f\"❌ Error loading data: {e}\")\n",
    "            return\n",
    "\n",
    "        # 🧹 Preprocess Urdu\n",
    "        df['cleaned_text'] = df['Urdu Sentence'].apply(urdu_preprocessor)\n",
    "\n",
    "        # 🧪 Split data\n",
    "        X_train, X_test, y_train, y_test = train_test_split(df['cleaned_text'], df['Sentiment'], test_size=0.2, random_state=42)\n",
    "\n",
    "        # 🔤 TF-IDF\n",
    "        vectorizer = TfidfVectorizer(ngram_range=(1, 2), max_df=0.9, min_df=5)\n",
    "        X_train_vec = vectorizer.fit_transform(X_train)\n",
    "        X_test_vec = vectorizer.transform(X_test)\n",
    "\n",
    "        # 🧠 Train model\n",
    "        model = LogisticRegression(max_iter=1000)\n",
    "        model.fit(X_train_vec, y_train)\n",
    "        print(\"✅ Model trained!\")\n",
    "\n",
    "        # 📊 Evaluation\n",
    "        y_pred = model.predict(X_test_vec)\n",
    "        print(\"📊 Classification Report:\")\n",
    "        print(classification_report(y_test, y_pred))\n",
    "\n",
    "        # 🔥 Confusion matrix\n",
    "        cm = confusion_matrix(y_test, y_pred)\n",
    "        plt.figure(figsize=(6, 4))\n",
    "        sns.heatmap(cm, annot=True, fmt='d', cmap='YlGnBu', xticklabels=model.classes_, yticklabels=model.classes_)\n",
    "        plt.xlabel(\"Predicted\")\n",
    "        plt.ylabel(\"Actual\")\n",
    "        plt.title(\"Confusion Matrix (Naive Bayes - Urdu)\")\n",
    "        plt.tight_layout()\n",
    "        plt.savefig(\"urdu_confusion_matrix.png\")\n",
    "        plt.show()\n",
    "\n",
    "        # 💾 Save model and vectorizer\n",
    "        with open(\"urdu_sentiment_nb_classifier.pkl\", \"wb\") as f:\n",
    "            pickle.dump(model, f)\n",
    "        print(\"✅ Saved: urdu_sentiment_nb_classifier.pkl\")\n",
    "\n",
    "        with open(\"urdu_tfidf_vectorizer.pkl\", \"wb\") as f:\n",
    "            pickle.dump(vectorizer, f)\n",
    "        print(\"✅ Saved: urdu_tfidf_vectorizer.pkl\")\n",
    "\n",
    "        # 💾 Save predictions to Excel\n",
    "        results_df = pd.DataFrame({\n",
    "            'Original Sentence': X_test.values,\n",
    "            'Actual Sentiment': y_test.values,\n",
    "            'Predicted Sentiment': y_pred\n",
    "        })\n",
    "        results_df.to_excel(\"urdu_predictions_with_actual_predicated.xlsx\", index=False)\n",
    "        print(\"📁 Saved predictions to 'urdu_predictions_with_actual_predicated.xlsx'\")\n",
    "\n",
    "# 🔍 Test function\n",
    "def test_model(b):\n",
    "    with output:\n",
    "        clear_output(wait=True)\n",
    "        print(\"🔍 Testing loaded model...\")\n",
    "\n",
    "        try:\n",
    "            with open(\"urdu_sentiment_nb_classifier.pkl\", \"rb\") as f:\n",
    "                model = pickle.load(f)\n",
    "            with open(\"urdu_tfidf_vectorizer.pkl\", \"rb\") as f:\n",
    "                vectorizer = pickle.load(f)\n",
    "            print(\"✅ Model and Vectorizer loaded!\")\n",
    "        except Exception as e:\n",
    "            print(f\"❌ Error loading model/vectorizer: {e}\")\n",
    "            return\n",
    "\n",
    "        # Define the submit function\n",
    "        def on_submit(change):\n",
    "            with output:\n",
    "                clear_output(wait=True)\n",
    "                print(\"📝 Enter key pressed, processing input...\")\n",
    "                input_text = text_input.value.strip()\n",
    "                if input_text:\n",
    "                    try:\n",
    "                        processed_input = urdu_preprocessor(input_text)\n",
    "                        input_vector = vectorizer.transform([processed_input])\n",
    "                        prediction = model.predict(input_vector)[0]\n",
    "                        print(f\"💡 Predicted Sentiment: {prediction}\")\n",
    "                    except Exception as e:\n",
    "                        print(f\"❌ Error predicting sentiment: {e}\")\n",
    "                else:\n",
    "                    print(\"ℹ Please enter text to get a sentiment prediction.\")\n",
    "\n",
    "        text_input.unobserve_all()\n",
    "        text_input.on_submit(on_submit)\n",
    "\n",
    "        # ✅ Show the input box only during testing\n",
    "        display(text_input)\n",
    "\n",
    "# 🔘 Create buttons with layout\n",
    "button_layout = widgets.Layout(width='300px')\n",
    "train_button = widgets.Button(\n",
    "    description=\"Train Urdu_Sentence Model\",\n",
    "    button_style='success',\n",
    "    layout=button_layout\n",
    ")\n",
    "test_button = widgets.Button(\n",
    "    description=\"Urdu_Sentence Model\",\n",
    "    button_style='info',\n",
    "    layout=button_layout\n",
    ")\n",
    "\n",
    "train_button.on_click(train_model)\n",
    "test_button.on_click(test_model)\n",
    "\n",
    "# 📺 Display the UI\n",
    "display(widgets.HBox([train_button, test_button]))\n",
    "display(output)"
   ]
  },
  {
   "cell_type": "code",
   "execution_count": null,
   "metadata": {
    "trusted": true
   },
   "outputs": [],
   "source": []
  }
 ],
 "metadata": {
  "kaggle": {
   "accelerator": "none",
   "dataSources": [
    {
     "datasetId": 7367464,
     "sourceId": 11735817,
     "sourceType": "datasetVersion"
    }
   ],
   "dockerImageVersionId": 31012,
   "isGpuEnabled": false,
   "isInternetEnabled": false,
   "language": "python",
   "sourceType": "notebook"
  },
  "kernelspec": {
   "display_name": "Python 3",
   "language": "python",
   "name": "python3"
  },
  "language_info": {
   "codemirror_mode": {
    "name": "ipython",
    "version": 3
   },
   "file_extension": ".py",
   "mimetype": "text/x-python",
   "name": "python",
   "nbconvert_exporter": "python",
   "pygments_lexer": "ipython3",
   "version": "3.11.11"
  }
 },
 "nbformat": 4,
 "nbformat_minor": 4
}
